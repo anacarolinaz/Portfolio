{
  "nbformat": 4,
  "nbformat_minor": 0,
  "metadata": {
    "colab": {
      "name": "Launches_Analysis.ipynb",
      "provenance": [],
      "authorship_tag": "ABX9TyMqtSY1YbLMKE4kmZoYrJU6",
      "include_colab_link": true
    },
    "kernelspec": {
      "name": "python3",
      "display_name": "Python 3"
    },
    "language_info": {
      "name": "python"
    }
  },
  "cells": [
    {
      "cell_type": "markdown",
      "metadata": {
        "id": "view-in-github",
        "colab_type": "text"
      },
      "source": [
        "<a href=\"https://colab.research.google.com/github/anacarolinaz/portfolio/blob/main/Launches_Analysis.ipynb\" target=\"_parent\"><img src=\"https://colab.research.google.com/assets/colab-badge.svg\" alt=\"Open In Colab\"/></a>"
      ]
    },
    {
      "cell_type": "code",
      "metadata": {
        "id": "NiFfI3b2o0Bq"
      },
      "source": [
        "import pandas as pd\n",
        "import numpy as np\n",
        "import seaborn as sns\n",
        "import plotly.express as px\n",
        "import matplotlib.pyplot as plt\n",
        "import plotly.graph_objects as go"
      ],
      "execution_count": null,
      "outputs": []
    },
    {
      "cell_type": "code",
      "metadata": {
        "colab": {
          "base_uri": "https://localhost:8080/",
          "height": 295
        },
        "id": "UOjLbGaOo6UC",
        "outputId": "69957896-40c6-4ff5-f867-f4e921c23b61"
      },
      "source": [
        "#Importation of the dataframe\n",
        "space = pd.read_csv(\"/content/space-missions.csv\")\n",
        "#Show the first 5 lines \n",
        "space.head()"
      ],
      "execution_count": null,
      "outputs": [
        {
          "output_type": "execute_result",
          "data": {
            "text/html": [
              "<div>\n",
              "<style scoped>\n",
              "    .dataframe tbody tr th:only-of-type {\n",
              "        vertical-align: middle;\n",
              "    }\n",
              "\n",
              "    .dataframe tbody tr th {\n",
              "        vertical-align: top;\n",
              "    }\n",
              "\n",
              "    .dataframe thead th {\n",
              "        text-align: right;\n",
              "    }\n",
              "</style>\n",
              "<table border=\"1\" class=\"dataframe\">\n",
              "  <thead>\n",
              "    <tr style=\"text-align: right;\">\n",
              "      <th></th>\n",
              "      <th>Unnamed: 0</th>\n",
              "      <th>Unnamed: 0.1</th>\n",
              "      <th>Company Name</th>\n",
              "      <th>Location</th>\n",
              "      <th>Datum</th>\n",
              "      <th>Detail</th>\n",
              "      <th>Status Rocket</th>\n",
              "      <th>Rocket</th>\n",
              "      <th>Status Mission</th>\n",
              "    </tr>\n",
              "  </thead>\n",
              "  <tbody>\n",
              "    <tr>\n",
              "      <th>0</th>\n",
              "      <td>0</td>\n",
              "      <td>0</td>\n",
              "      <td>SpaceX</td>\n",
              "      <td>LC-39A, Kennedy Space Center, Florida, USA</td>\n",
              "      <td>Fri Aug 07, 2020 05:12 UTC</td>\n",
              "      <td>Falcon 9 Block 5 | Starlink V1 L9 &amp; BlackSky</td>\n",
              "      <td>StatusActive</td>\n",
              "      <td>50.0</td>\n",
              "      <td>Success</td>\n",
              "    </tr>\n",
              "    <tr>\n",
              "      <th>1</th>\n",
              "      <td>1</td>\n",
              "      <td>1</td>\n",
              "      <td>CASC</td>\n",
              "      <td>Site 9401 (SLS-2), Jiuquan Satellite Launch Ce...</td>\n",
              "      <td>Thu Aug 06, 2020 04:01 UTC</td>\n",
              "      <td>Long March 2D | Gaofen-9 04 &amp; Q-SAT</td>\n",
              "      <td>StatusActive</td>\n",
              "      <td>29.75</td>\n",
              "      <td>Success</td>\n",
              "    </tr>\n",
              "    <tr>\n",
              "      <th>2</th>\n",
              "      <td>2</td>\n",
              "      <td>2</td>\n",
              "      <td>SpaceX</td>\n",
              "      <td>Pad A, Boca Chica, Texas, USA</td>\n",
              "      <td>Tue Aug 04, 2020 23:57 UTC</td>\n",
              "      <td>Starship Prototype | 150 Meter Hop</td>\n",
              "      <td>StatusActive</td>\n",
              "      <td>NaN</td>\n",
              "      <td>Success</td>\n",
              "    </tr>\n",
              "    <tr>\n",
              "      <th>3</th>\n",
              "      <td>3</td>\n",
              "      <td>3</td>\n",
              "      <td>Roscosmos</td>\n",
              "      <td>Site 200/39, Baikonur Cosmodrome, Kazakhstan</td>\n",
              "      <td>Thu Jul 30, 2020 21:25 UTC</td>\n",
              "      <td>Proton-M/Briz-M | Ekspress-80 &amp; Ekspress-103</td>\n",
              "      <td>StatusActive</td>\n",
              "      <td>65.0</td>\n",
              "      <td>Success</td>\n",
              "    </tr>\n",
              "    <tr>\n",
              "      <th>4</th>\n",
              "      <td>4</td>\n",
              "      <td>4</td>\n",
              "      <td>ULA</td>\n",
              "      <td>SLC-41, Cape Canaveral AFS, Florida, USA</td>\n",
              "      <td>Thu Jul 30, 2020 11:50 UTC</td>\n",
              "      <td>Atlas V 541 | Perseverance</td>\n",
              "      <td>StatusActive</td>\n",
              "      <td>145.0</td>\n",
              "      <td>Success</td>\n",
              "    </tr>\n",
              "  </tbody>\n",
              "</table>\n",
              "</div>"
            ],
            "text/plain": [
              "   Unnamed: 0  Unnamed: 0.1 Company Name  ... Status Rocket  Rocket Status Mission\n",
              "0           0             0       SpaceX  ...  StatusActive   50.0         Success\n",
              "1           1             1         CASC  ...  StatusActive  29.75         Success\n",
              "2           2             2       SpaceX  ...  StatusActive     NaN        Success\n",
              "3           3             3    Roscosmos  ...  StatusActive   65.0         Success\n",
              "4           4             4          ULA  ...  StatusActive  145.0         Success\n",
              "\n",
              "[5 rows x 9 columns]"
            ]
          },
          "metadata": {
            "tags": []
          },
          "execution_count": 4
        }
      ]
    },
    {
      "cell_type": "code",
      "metadata": {
        "colab": {
          "base_uri": "https://localhost:8080/",
          "height": 295
        },
        "id": "4L7smCT6o8mV",
        "outputId": "1e949e1a-fe44-48af-8c60-345cc4426fc7"
      },
      "source": [
        "space[\"Year\"] = space[\"Datum\"].map(lambda date : date.split(\",\")[-1]).map(lambda date : date.split(\" \")[1])\n",
        "\n",
        "space[\"Country\"] = space[\"Location\"].map(lambda loc : loc.split(\",\")[-1].strip())\n",
        "space[\"Launcher\"] = space[\"Location\"].map(lambda loc : loc.split(\",\")[0].strip())\n",
        "space[\"Site name\"] = space[\"Location\"].map(lambda loc : loc.split(\",\")[1].strip())\n",
        "\n",
        "del space[\"Unnamed: 0.1\"]\n",
        "del space[\"Launcher\"]\n",
        "del space[\"Detail\"]\n",
        "\n",
        "space[\"Unnamed: 0\"] = (space[\"Unnamed: 0\"] + 1 - max(space[\"Unnamed: 0\"]))*(-1)+2\n",
        "space.rename(columns={\" Rocket\" : \"Rocket price\",\"Unnamed: 0\" : \"Launch Number\"}, inplace = True)\n",
        "\n",
        "space.head()"
      ],
      "execution_count": null,
      "outputs": [
        {
          "output_type": "execute_result",
          "data": {
            "text/html": [
              "<div>\n",
              "<style scoped>\n",
              "    .dataframe tbody tr th:only-of-type {\n",
              "        vertical-align: middle;\n",
              "    }\n",
              "\n",
              "    .dataframe tbody tr th {\n",
              "        vertical-align: top;\n",
              "    }\n",
              "\n",
              "    .dataframe thead th {\n",
              "        text-align: right;\n",
              "    }\n",
              "</style>\n",
              "<table border=\"1\" class=\"dataframe\">\n",
              "  <thead>\n",
              "    <tr style=\"text-align: right;\">\n",
              "      <th></th>\n",
              "      <th>Launch Number</th>\n",
              "      <th>Company Name</th>\n",
              "      <th>Location</th>\n",
              "      <th>Datum</th>\n",
              "      <th>Status Rocket</th>\n",
              "      <th>Rocket price</th>\n",
              "      <th>Status Mission</th>\n",
              "      <th>Year</th>\n",
              "      <th>Country</th>\n",
              "      <th>Site name</th>\n",
              "    </tr>\n",
              "  </thead>\n",
              "  <tbody>\n",
              "    <tr>\n",
              "      <th>0</th>\n",
              "      <td>4324</td>\n",
              "      <td>SpaceX</td>\n",
              "      <td>LC-39A, Kennedy Space Center, Florida, USA</td>\n",
              "      <td>Fri Aug 07, 2020 05:12 UTC</td>\n",
              "      <td>StatusActive</td>\n",
              "      <td>50.0</td>\n",
              "      <td>Success</td>\n",
              "      <td>2020</td>\n",
              "      <td>USA</td>\n",
              "      <td>Kennedy Space Center</td>\n",
              "    </tr>\n",
              "    <tr>\n",
              "      <th>1</th>\n",
              "      <td>4323</td>\n",
              "      <td>CASC</td>\n",
              "      <td>Site 9401 (SLS-2), Jiuquan Satellite Launch Ce...</td>\n",
              "      <td>Thu Aug 06, 2020 04:01 UTC</td>\n",
              "      <td>StatusActive</td>\n",
              "      <td>29.75</td>\n",
              "      <td>Success</td>\n",
              "      <td>2020</td>\n",
              "      <td>China</td>\n",
              "      <td>Jiuquan Satellite Launch Center</td>\n",
              "    </tr>\n",
              "    <tr>\n",
              "      <th>2</th>\n",
              "      <td>4322</td>\n",
              "      <td>SpaceX</td>\n",
              "      <td>Pad A, Boca Chica, Texas, USA</td>\n",
              "      <td>Tue Aug 04, 2020 23:57 UTC</td>\n",
              "      <td>StatusActive</td>\n",
              "      <td>NaN</td>\n",
              "      <td>Success</td>\n",
              "      <td>2020</td>\n",
              "      <td>USA</td>\n",
              "      <td>Boca Chica</td>\n",
              "    </tr>\n",
              "    <tr>\n",
              "      <th>3</th>\n",
              "      <td>4321</td>\n",
              "      <td>Roscosmos</td>\n",
              "      <td>Site 200/39, Baikonur Cosmodrome, Kazakhstan</td>\n",
              "      <td>Thu Jul 30, 2020 21:25 UTC</td>\n",
              "      <td>StatusActive</td>\n",
              "      <td>65.0</td>\n",
              "      <td>Success</td>\n",
              "      <td>2020</td>\n",
              "      <td>Kazakhstan</td>\n",
              "      <td>Baikonur Cosmodrome</td>\n",
              "    </tr>\n",
              "    <tr>\n",
              "      <th>4</th>\n",
              "      <td>4320</td>\n",
              "      <td>ULA</td>\n",
              "      <td>SLC-41, Cape Canaveral AFS, Florida, USA</td>\n",
              "      <td>Thu Jul 30, 2020 11:50 UTC</td>\n",
              "      <td>StatusActive</td>\n",
              "      <td>145.0</td>\n",
              "      <td>Success</td>\n",
              "      <td>2020</td>\n",
              "      <td>USA</td>\n",
              "      <td>Cape Canaveral AFS</td>\n",
              "    </tr>\n",
              "  </tbody>\n",
              "</table>\n",
              "</div>"
            ],
            "text/plain": [
              "   Launch Number Company Name  ...     Country                        Site name\n",
              "0           4324       SpaceX  ...         USA             Kennedy Space Center\n",
              "1           4323         CASC  ...       China  Jiuquan Satellite Launch Center\n",
              "2           4322       SpaceX  ...         USA                       Boca Chica\n",
              "3           4321    Roscosmos  ...  Kazakhstan              Baikonur Cosmodrome\n",
              "4           4320          ULA  ...         USA               Cape Canaveral AFS\n",
              "\n",
              "[5 rows x 10 columns]"
            ]
          },
          "metadata": {
            "tags": []
          },
          "execution_count": 5
        }
      ]
    },
    {
      "cell_type": "code",
      "metadata": {
        "colab": {
          "base_uri": "https://localhost:8080/"
        },
        "id": "Y85CvlGopGR0",
        "outputId": "e4028df5-473c-4efc-cd76-bba452254d62"
      },
      "source": [
        "space[\"Country\"].unique()"
      ],
      "execution_count": null,
      "outputs": [
        {
          "output_type": "execute_result",
          "data": {
            "text/plain": [
              "array(['USA', 'China', 'Kazakhstan', 'Japan', 'Israel', 'New Zealand',\n",
              "       'Russia', 'Shahrud Missile Test Site', 'France', 'Iran', 'India',\n",
              "       'New Mexico', 'Yellow Sea', 'North Korea',\n",
              "       'Pacific Missile Range Facility', 'Pacific Ocean', 'South Korea',\n",
              "       'Barents Sea', 'Brazil', 'Gran Canaria', 'Kenya', 'Australia'],\n",
              "      dtype=object)"
            ]
          },
          "metadata": {
            "tags": []
          },
          "execution_count": 6
        }
      ]
    },
    {
      "cell_type": "code",
      "metadata": {
        "id": "-Oy1F4uwpG1d"
      },
      "source": [
        "#Here we're changing some 'countries' that just were used to make the launches\n",
        "space[\"Country\"].replace('Yellow Sea', 'China',inplace = True)\n",
        "space[\"Country\"].replace('Shahrud Missile Test Site', 'Iran',inplace = True)\n",
        "space[\"Country\"].replace('Pacific Missile Range Facility', 'USA',inplace = True)\n",
        "space[\"Country\"].replace('Barents Sea', 'Russia',inplace = True)\n",
        "space[\"Country\"].replace('Pacific Ocean', 'USA',inplace = True)\n",
        "space[\"Country\"].replace('New Mexico', 'USA',inplace = True)\n",
        "space[\"Country\"].replace('Gran Canaria', 'Spain',inplace = True)\n",
        "\n",
        "#Example: 'VKS RF', 'RVSN USSR', 'ROSCOSMOS' are all Russian Companies.\n",
        "x = [\"VKS RF\",\"RVSN USSR\",\"ROSCOSMOS\"]\n",
        "for c in x :\n",
        "    space.loc[space['Company Name'] == c, \"Country\"] = \"Russia\""
      ],
      "execution_count": null,
      "outputs": []
    },
    {
      "cell_type": "code",
      "metadata": {
        "colab": {
          "base_uri": "https://localhost:8080/",
          "height": 295
        },
        "id": "mI6KhzBkpIxK",
        "outputId": "9979809b-4b75-4c75-8ae5-3b53d6e901b8"
      },
      "source": [
        "space.head()"
      ],
      "execution_count": null,
      "outputs": [
        {
          "output_type": "execute_result",
          "data": {
            "text/html": [
              "<div>\n",
              "<style scoped>\n",
              "    .dataframe tbody tr th:only-of-type {\n",
              "        vertical-align: middle;\n",
              "    }\n",
              "\n",
              "    .dataframe tbody tr th {\n",
              "        vertical-align: top;\n",
              "    }\n",
              "\n",
              "    .dataframe thead th {\n",
              "        text-align: right;\n",
              "    }\n",
              "</style>\n",
              "<table border=\"1\" class=\"dataframe\">\n",
              "  <thead>\n",
              "    <tr style=\"text-align: right;\">\n",
              "      <th></th>\n",
              "      <th>Launch Number</th>\n",
              "      <th>Company Name</th>\n",
              "      <th>Location</th>\n",
              "      <th>Datum</th>\n",
              "      <th>Status Rocket</th>\n",
              "      <th>Rocket price</th>\n",
              "      <th>Status Mission</th>\n",
              "      <th>Year</th>\n",
              "      <th>Country</th>\n",
              "      <th>Site name</th>\n",
              "    </tr>\n",
              "  </thead>\n",
              "  <tbody>\n",
              "    <tr>\n",
              "      <th>0</th>\n",
              "      <td>4324</td>\n",
              "      <td>SpaceX</td>\n",
              "      <td>LC-39A, Kennedy Space Center, Florida, USA</td>\n",
              "      <td>Fri Aug 07, 2020 05:12 UTC</td>\n",
              "      <td>StatusActive</td>\n",
              "      <td>50.0</td>\n",
              "      <td>Success</td>\n",
              "      <td>2020</td>\n",
              "      <td>USA</td>\n",
              "      <td>Kennedy Space Center</td>\n",
              "    </tr>\n",
              "    <tr>\n",
              "      <th>1</th>\n",
              "      <td>4323</td>\n",
              "      <td>CASC</td>\n",
              "      <td>Site 9401 (SLS-2), Jiuquan Satellite Launch Ce...</td>\n",
              "      <td>Thu Aug 06, 2020 04:01 UTC</td>\n",
              "      <td>StatusActive</td>\n",
              "      <td>29.75</td>\n",
              "      <td>Success</td>\n",
              "      <td>2020</td>\n",
              "      <td>China</td>\n",
              "      <td>Jiuquan Satellite Launch Center</td>\n",
              "    </tr>\n",
              "    <tr>\n",
              "      <th>2</th>\n",
              "      <td>4322</td>\n",
              "      <td>SpaceX</td>\n",
              "      <td>Pad A, Boca Chica, Texas, USA</td>\n",
              "      <td>Tue Aug 04, 2020 23:57 UTC</td>\n",
              "      <td>StatusActive</td>\n",
              "      <td>NaN</td>\n",
              "      <td>Success</td>\n",
              "      <td>2020</td>\n",
              "      <td>USA</td>\n",
              "      <td>Boca Chica</td>\n",
              "    </tr>\n",
              "    <tr>\n",
              "      <th>3</th>\n",
              "      <td>4321</td>\n",
              "      <td>Roscosmos</td>\n",
              "      <td>Site 200/39, Baikonur Cosmodrome, Kazakhstan</td>\n",
              "      <td>Thu Jul 30, 2020 21:25 UTC</td>\n",
              "      <td>StatusActive</td>\n",
              "      <td>65.0</td>\n",
              "      <td>Success</td>\n",
              "      <td>2020</td>\n",
              "      <td>Kazakhstan</td>\n",
              "      <td>Baikonur Cosmodrome</td>\n",
              "    </tr>\n",
              "    <tr>\n",
              "      <th>4</th>\n",
              "      <td>4320</td>\n",
              "      <td>ULA</td>\n",
              "      <td>SLC-41, Cape Canaveral AFS, Florida, USA</td>\n",
              "      <td>Thu Jul 30, 2020 11:50 UTC</td>\n",
              "      <td>StatusActive</td>\n",
              "      <td>145.0</td>\n",
              "      <td>Success</td>\n",
              "      <td>2020</td>\n",
              "      <td>USA</td>\n",
              "      <td>Cape Canaveral AFS</td>\n",
              "    </tr>\n",
              "  </tbody>\n",
              "</table>\n",
              "</div>"
            ],
            "text/plain": [
              "   Launch Number Company Name  ...     Country                        Site name\n",
              "0           4324       SpaceX  ...         USA             Kennedy Space Center\n",
              "1           4323         CASC  ...       China  Jiuquan Satellite Launch Center\n",
              "2           4322       SpaceX  ...         USA                       Boca Chica\n",
              "3           4321    Roscosmos  ...  Kazakhstan              Baikonur Cosmodrome\n",
              "4           4320          ULA  ...         USA               Cape Canaveral AFS\n",
              "\n",
              "[5 rows x 10 columns]"
            ]
          },
          "metadata": {
            "tags": []
          },
          "execution_count": 8
        }
      ]
    },
    {
      "cell_type": "code",
      "metadata": {
        "colab": {
          "base_uri": "https://localhost:8080/"
        },
        "id": "ipbVkYcApM5Z",
        "outputId": "ad7ecfa0-45f4-493b-8ff0-83849266fd58"
      },
      "source": [
        "space.shape"
      ],
      "execution_count": null,
      "outputs": [
        {
          "output_type": "execute_result",
          "data": {
            "text/plain": [
              "(4324, 10)"
            ]
          },
          "metadata": {
            "tags": []
          },
          "execution_count": 9
        }
      ]
    },
    {
      "cell_type": "code",
      "metadata": {
        "colab": {
          "base_uri": "https://localhost:8080/",
          "height": 110
        },
        "id": "JUnHK3yipOPk",
        "outputId": "4b16cf30-d661-4e90-8ed2-52248a60de65"
      },
      "source": [
        "space.tail(1)"
      ],
      "execution_count": null,
      "outputs": [
        {
          "output_type": "execute_result",
          "data": {
            "text/html": [
              "<div>\n",
              "<style scoped>\n",
              "    .dataframe tbody tr th:only-of-type {\n",
              "        vertical-align: middle;\n",
              "    }\n",
              "\n",
              "    .dataframe tbody tr th {\n",
              "        vertical-align: top;\n",
              "    }\n",
              "\n",
              "    .dataframe thead th {\n",
              "        text-align: right;\n",
              "    }\n",
              "</style>\n",
              "<table border=\"1\" class=\"dataframe\">\n",
              "  <thead>\n",
              "    <tr style=\"text-align: right;\">\n",
              "      <th></th>\n",
              "      <th>Launch Number</th>\n",
              "      <th>Company Name</th>\n",
              "      <th>Location</th>\n",
              "      <th>Datum</th>\n",
              "      <th>Status Rocket</th>\n",
              "      <th>Rocket price</th>\n",
              "      <th>Status Mission</th>\n",
              "      <th>Year</th>\n",
              "      <th>Country</th>\n",
              "      <th>Site name</th>\n",
              "    </tr>\n",
              "  </thead>\n",
              "  <tbody>\n",
              "    <tr>\n",
              "      <th>4323</th>\n",
              "      <td>1</td>\n",
              "      <td>RVSN USSR</td>\n",
              "      <td>Site 1/5, Baikonur Cosmodrome, Kazakhstan</td>\n",
              "      <td>Fri Oct 04, 1957 19:28 UTC</td>\n",
              "      <td>StatusRetired</td>\n",
              "      <td>NaN</td>\n",
              "      <td>Success</td>\n",
              "      <td>1957</td>\n",
              "      <td>Russia</td>\n",
              "      <td>Baikonur Cosmodrome</td>\n",
              "    </tr>\n",
              "  </tbody>\n",
              "</table>\n",
              "</div>"
            ],
            "text/plain": [
              "      Launch Number Company Name  ... Country            Site name\n",
              "4323              1    RVSN USSR  ...  Russia  Baikonur Cosmodrome\n",
              "\n",
              "[1 rows x 10 columns]"
            ]
          },
          "metadata": {
            "tags": []
          },
          "execution_count": 11
        }
      ]
    },
    {
      "cell_type": "code",
      "metadata": {
        "id": "jdsfXYCXpP3O"
      },
      "source": [
        "fig = px.line(space, x='Year', y=\"Launch Number\",color_discrete_sequence = px.colors.sequential.RdBu, template = \"plotly_dark\",height = 600, width = 600)\n",
        "fig.show()"
      ],
      "execution_count": null,
      "outputs": []
    },
    {
      "cell_type": "code",
      "metadata": {
        "id": "R_mbW_qtpWqc"
      },
      "source": [
        "Count_Year = space[\"Year\"].value_counts().reset_index().rename(columns={\"index\" : \"Year\", \"Year\" : \"Count\"}).sort_values(\"Year\")\n",
        "fig = px.bar(Count_Year, y='Count',  x='Year', text='Count', color = 'Count',color_continuous_scale= px.colors.sequential.Oranges, \n",
        "             template = \"plotly_dark\",height = 600, width = 700)\n",
        "fig.show()"
      ],
      "execution_count": null,
      "outputs": []
    },
    {
      "cell_type": "code",
      "metadata": {
        "id": "uplbQrCYpaR9"
      },
      "source": [
        "#Count_Year_country\n",
        "Count_Year_country = space.groupby([\"Year\",\"Country\"])[\"Launch Number\"].count().reset_index()\n",
        "\n",
        "fig = px.bar(Count_Year_country, y='Launch Number', x='Year',color=\"Country\",\n",
        "             color_discrete_sequence = px.colors.qualitative.Dark24,template = \"plotly_dark\"\n",
        "             ,height = 600, width = 800)\n",
        "fig.show()"
      ],
      "execution_count": null,
      "outputs": []
    },
    {
      "cell_type": "code",
      "metadata": {
        "id": "rxo-5SeBpaxI"
      },
      "source": [
        "Tab = space.groupby([\"Year\",\"Status Mission\"])[\"Launch Number\"].count().reset_index()\n",
        "fig = px.bar(Tab, y='Launch Number', x='Year',color=\"Status Mission\",title='Success distribution by Year',\n",
        "             color_continuous_scale = px.colors.sequential.Blues,template = \"plotly_dark\"\n",
        "             ,height = 500, width = 800)\n",
        "fig.show()"
      ],
      "execution_count": null,
      "outputs": []
    }
  ]
}